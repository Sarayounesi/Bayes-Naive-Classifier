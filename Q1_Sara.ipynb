{
 "cells": [
  {
   "attachments": {},
   "cell_type": "markdown",
   "metadata": {},
   "source": [
    "سارا سادات یونسی_98533053"
   ]
  },
  {
   "cell_type": "code",
   "execution_count": 1,
   "metadata": {},
   "outputs": [],
   "source": [
    "import math\n",
    "from sklearn import datasets\n",
    "from sklearn.naive_bayes import GaussianNB\n",
    "from sklearn.model_selection import train_test_split\n",
    "import random"
   ]
  },
  {
   "attachments": {},
   "cell_type": "markdown",
   "metadata": {},
   "source": [
    "ابتدا کتابخانه های مورد نظر را ایمپورت می کنیم."
   ]
  },
  {
   "cell_type": "code",
   "execution_count": 2,
   "metadata": {},
   "outputs": [],
   "source": [
    "def Sepration_1(input):\n",
    "    Temp = dict()\n",
    "    for i in range(len(input)):\n",
    "        Select_1 = input[i]\n",
    "        Select_2 = Select_1[-1]\n",
    "        if Select_2 not in Temp:\n",
    "            Temp[Select_2] = []\n",
    "        Temp[Select_2].append(Select_1)\n",
    "    return Temp"
   ]
  },
  {
   "attachments": {},
   "cell_type": "markdown",
   "metadata": {},
   "source": [
    "ابتدا بایست چهار قسمت را تقسیم کنیم و نام کلاس را هم تقسیم کنیم چون در نهایت باید بگوییم دیتا ها متعلق به کدامین کلاس هستند.برای این کار یک دیکشنری استفاده می کنیم که دیتایی که به عنوان ورودی میگیریم قسمت اخر که نام کلاس است را جدا می کنیم و به قسمت دیگر اپند می کنیم."
   ]
  },
  {
   "cell_type": "code",
   "execution_count": 3,
   "metadata": {},
   "outputs": [],
   "source": [
    "def Math_calculate(input):\n",
    "    Total_sum = sum(input)\n",
    "    Result_1 = Total_sum/float(len(input))\n",
    "    return Result_1\n",
    "\n",
    "def Dev_calculate(input):\n",
    "    average = Math_calculate(input)\n",
    "    var_sara = sum([(x-average)**2 for x in input])\n",
    "    variance = var_sara / float(len(input)-1)\n",
    "    Result_2 = math.sqrt(variance)\n",
    "    return Result_2\n",
    "\n",
    "def Math_total_calculate(input):\n",
    "    for i in range(len(input)):\n",
    "        input[i] = input[i][:-1]\n",
    "    Result_3 = zip(*input)\n",
    "    # Result_4=(Math_calculate(column),Dev_calculate(column),len(column))\n",
    "    Math_total = [(Math_calculate(column), Dev_calculate(\n",
    "        column), len(column))for column in Result_3]\n",
    "    del Math_total[-1]\n",
    "    return Math_total\n",
    "\n",
    "def Math_total_ClassName(DB):\n",
    "    modular = Sepration_1(DB)\n",
    "    Math_total = dict()\n",
    "    for class_Select_2, rows in modular.items():\n",
    "        Math_total[class_Select_2] = Math_total_calculate(rows)\n",
    "    return Math_total\n",
    "\n",
    "def Gaussian_PDF(x, Math_calculate, Dev_calculate):\n",
    "    Result_5 = (x-Math_calculate)**2\n",
    "    Result_6 = (2*Dev_calculate**2)\n",
    "    Result_7 = math.exp(-(Result_5/Result_6))\n",
    "    return (1/(math.sqrt(2*math.pi)*Dev_calculate)) * Result_7"
   ]
  },
  {
   "attachments": {},
   "cell_type": "markdown",
   "metadata": {},
   "source": [
    "در این قسمت با استفاده از توابع آماده و عتوابعی کهه نوشتیم سعی می کنیم فرمول محاسبه ی گوسین را پیاده سازی کنیم.به ترتیب میانگین و انحراف معیار و نوع کلاس را مشخص می کینم و مقدار احتمال گوسین را محاسبه می کنیم."
   ]
  },
  {
   "cell_type": "code",
   "execution_count": 4,
   "metadata": {},
   "outputs": [],
   "source": [
    "def classes_Gaussian_PDF(Math_total, given_part):\n",
    "    summation_R = sum([Math_total[label][0][2] for label in Math_total])\n",
    "    Prior_probablity = dict()\n",
    "    for class_Select_2, class_Math_total in Math_total.items():\n",
    "        Prior_probablity[class_Select_2] = Math_total[class_Select_2][0][2] / \\\n",
    "            float(summation_R)\n",
    "        for i in range(len(class_Math_total)):\n",
    "            Math_calculate, Dev_calculate, count = class_Math_total[i]\n",
    "            Prior_probablity[class_Select_2] *= Gaussian_PDF(given_part[i],\n",
    "                                                             Math_calculate, Dev_calculate)\n",
    "    return Prior_probablity\n",
    "\n",
    "\n",
    "def predict(Math_total, given_part):\n",
    "    Prior_probablity = classes_Gaussian_PDF(Math_total, given_part)\n",
    "    First_part = None\n",
    "    Second_part = -1\n",
    "    for class_Select_2, Gaussian_PDF in Prior_probablity.items():\n",
    "\n",
    "        if Gaussian_PDF > Second_part:\n",
    "            Second_part = Gaussian_PDF\n",
    "            First_part = class_Select_2\n",
    "    return First_part"
   ]
  },
  {
   "cell_type": "markdown",
   "metadata": {},
   "source": []
  },
  {
   "attachments": {},
   "cell_type": "markdown",
   "metadata": {},
   "source": [
    "در این قسمت مقدار احتمال گوسین را محاسبه می کنیم و سپس احتمال هر کلاس را برای دیتا محاسبه و ذخیره می کنیم و پیشبینی کلاس هر دیتا را محاسبه می کنیم."
   ]
  },
  {
   "cell_type": "code",
   "execution_count": 5,
   "metadata": {},
   "outputs": [],
   "source": [
    "def Bys(train, test):\n",
    "    Numbers = len(test)\n",
    "    P = 0\n",
    "    Math_total = Math_total_ClassName(train)\n",
    "    Partition = list(Math_total.keys())\n",
    "    P2 = [0, 0, 0]\n",
    "    Total_nums = [0, 0, 0]\n",
    "    Total_p = []\n",
    "    for given_part in test:\n",
    "\n",
    "        prd = predict(Math_total, given_part)\n",
    "        if given_part[-1] == Partition[0]:\n",
    "            Total_nums[0] += 1\n",
    "        elif given_part[-1] == Partition[1]:\n",
    "            Total_nums[1] += 1\n",
    "        elif given_part[-1] == Partition[2]:\n",
    "            Total_nums[2] += 1\n",
    "\n",
    "        if prd == given_part[-1]:\n",
    "            P += 1\n",
    "            if given_part[-1] == Partition[0]:\n",
    "                P2[0] += 1\n",
    "            elif given_part[-1] == Partition[1]:\n",
    "                P2[1] += 1\n",
    "            elif given_part[-1] == Partition[2]:\n",
    "                P2[2] += 1\n",
    "        Total_p.append(prd)\n",
    "        \n",
    "    # full and class Accurancy :\n",
    "    print(\"*******************************************************************\")\n",
    "    print(\"Question_1\")\n",
    "    print(\"Total Accuracy \",\n",
    "          100*(P/Numbers))\n",
    "    print(\"*******************************************************************\")\n",
    "    for i in range(len(Partition)):\n",
    "        print(\"Accuracy\",\n",
    "              Partition[i], 100*(P2[i]/Total_nums[i]))\n",
    "    print(\"*******************************************************************\")\n"
   ]
  },
  {
   "attachments": {},
   "cell_type": "markdown",
   "metadata": {},
   "source": [
    "سوال یک و دو"
   ]
  },
  {
   "attachments": {},
   "cell_type": "markdown",
   "metadata": {},
   "source": [
    "همانگونه که سوال خواسته است داده هارا بر می زنیم و به صورت 80 درصد برای آموزش و 20 درصد جهت تست گرفتن جدا می کنیم که اگر مقدار داده برای آموزش در این قسمت بیشتر شود دقت ان بیش تر می شود."
   ]
  },
  {
   "cell_type": "code",
   "execution_count": 6,
   "metadata": {},
   "outputs": [
    {
     "name": "stdout",
     "output_type": "stream",
     "text": [
      "*******************************************************************\n",
      "Question_1\n",
      "Total Accuracy  92.85714285714286\n",
      "*******************************************************************\n",
      "Accuracy Iris-virginica 75.0\n",
      "Accuracy Iris-setosa 100.0\n",
      "Accuracy Iris-versicolor 100.0\n",
      "*******************************************************************\n",
      "Question_3\n",
      "Accuracy Scikit :  93.33333333333333\n",
      "*******************************************************************\n"
     ]
    }
   ],
   "source": [
    "iris = open(\"./iris.data\")\n",
    "iris = list(iris)\n",
    "input = []\n",
    "w= len(iris)-1\n",
    "for i in range(len(iris)):\n",
    "    if i == w:\n",
    "        break\n",
    "    given_part = iris[i].split(\",\")\n",
    "    given_part[-1] = given_part[-1][:-1]\n",
    "    given_part[0] = float(given_part[0])\n",
    "    given_part[1] = float(given_part[1])\n",
    "    given_part[2] = float(given_part[2])\n",
    "    given_part[3] = float(given_part[3])\n",
    "    input.append(given_part)\n",
    "\n",
    "train = random.sample(input, k=round(len(input) * 0.8))\n",
    "test = []\n",
    "for i in range(len(input)):\n",
    "    if input[i] not in train:\n",
    "        test.append(input[i])\n",
    "\n",
    "Bys(train, test)\n",
    "\n",
    "# Q3 : Compare to scikit-learn :\n",
    "\n",
    "X, y = datasets.load_iris(return_X_y=True)\n",
    "X_train, X_test, y_train, y_test = train_test_split(\n",
    "    X, y, test_size=0.8, random_state=0)\n",
    "Y = GaussianNB()\n",
    "y_pred = Y.fit(X_train, y_train).predict(X_test)\n",
    "print(\"Question_3\")\n",
    "print(\"Accuracy Scikit : \", 100*(y_test == y_pred).sum()/X_test.shape[0])\n",
    "print(\"*******************************************************************\")\n"
   ]
  },
  {
   "attachments": {},
   "cell_type": "markdown",
   "metadata": {},
   "source": [
    "سوال سه "
   ]
  },
  {
   "attachments": {},
   "cell_type": "markdown",
   "metadata": {},
   "source": [
    "با استفاده از کتابخانه آماده SCKITپیاده سازی می کنیم و میبینیم دقت دو روش پیاده سازی شبیه همند"
   ]
  }
 ],
 "metadata": {
  "kernelspec": {
   "display_name": "Python 3",
   "language": "python",
   "name": "python3"
  },
  "language_info": {
   "codemirror_mode": {
    "name": "ipython",
    "version": 3
   },
   "file_extension": ".py",
   "mimetype": "text/x-python",
   "name": "python",
   "nbconvert_exporter": "python",
   "pygments_lexer": "ipython3",
   "version": "3.8.0"
  },
  "orig_nbformat": 4,
  "vscode": {
   "interpreter": {
    "hash": "6a926afa313b26ae1264fdcf81c726a97e69f6ba2ba780f6aa901948710f8d6e"
   }
  }
 },
 "nbformat": 4,
 "nbformat_minor": 2
}
